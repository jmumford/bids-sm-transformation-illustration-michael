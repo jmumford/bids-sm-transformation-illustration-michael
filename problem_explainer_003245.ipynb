{
 "cells": [
  {
   "cell_type": "markdown",
   "metadata": {},
   "source": [
    "# What's going on?\n",
    "\n",
    "Please do not take anything I say as criticism of the PyBids code! I barely know what I'm doing, and I still haven't wrapped my head around the logic of the code. Also, bear with me regarding the terminology I'm using; it may be a little off.\n",
    "\n",
    "Working with Michael, we discovered an issue related to a `PaddedInt` variable (note: the variable was from a `.json` sidecar for a `bold.nii.gz` file). Essentially, the error arises because the code is trying to check whether a list contains all of the same value, and `==` doesn't work for this purpose in `PaddedInt`. If you go to the very end of this notebook, you can find the error.\n",
    "\n",
    "After poking around a bit, I think there are one or two different problems occurring here. I will illustrate these below. \n",
    "\n",
    "\n",
    "### Question 1:\n",
    "The problem arises because of `PaddedInt` and I was curious, why not treat `run` as a string instead of an integer? I notice that it is the only entity with a dtype (`int`) specified in `/bids/layout/config/bids.json`. Presumably, something breaks if this isn't handled correctly, and I was wondering what that was.\n",
    "\n",
    "Assuming the goal is to ensure that `run` is (and remains) a `PaddedInt` throughout all the processes, that leads us to **Problem #1**.\n",
    "\n",
    "### Problem #1: `run` flips back to `int` and currently the output files do not have zero-padded run numbers\n",
    "Additionally, here's **Problem #2**:\n",
    "\n",
    "### Problem #2: Values from the `.json` sidecar files are `PaddedInt`, but this causes the error that started this investigation\n",
    "\n",
    "---\n",
    "\n",
    "# What is in this notebook\n",
    "\n",
    "I have traced the entities through various steps to verify that all `int`s start off as `PaddedInt` (we probably only want this to be the case for `run`, though?). At one point, a level of the entities still has `PaddedInt`, while another level has `int`. Presumably, the `int` version is used to generate a file name, while the `PaddedInt` version throws the error that started this exploration.\n",
    "\n",
    "To cut to the chase, `int`s are converted to `PaddedInt`s in `BidsVariableCollection._index_entities()`, specifically in [this line](https://github.com/bids-standard/pybids/blob/85eacf24c345abf72413381c53e6a7847c1cd932/src/bids/variables/collections.py#L248), because it is converting the data into a `pandas` DataFrame, which automatically converts them to `int`. We won't discuss how long it took me to figure that out, but hopefully, this explanation is helpful!\n",
    "\n",
    "The point at which these changes occur is shown below in the code.  Ignore that I manually removed session information from the data, I initially thought that was involved in the error.  So the filenames differ from what you'll find in OpenNeuro.\n",
    "\n",
    "---\n",
    "\n",
    "# My thoughts on a solution\n",
    "\n",
    "I don't know the history of `PaddedInt`. What happens if it is omitted and the `run` dtype isn't pre-specified as an `int` in the `config/bids.json`? If it is treated as a `str`, does that break something further along the line?  Changing `PaddedInt` to `int` does allow the code to run without error.  Although this ensures the run numbers are not zero padded in the output files, they weren't zero padded anyhow (e.g., in datasets where there are not .json sidecar files)."
   ]
  },
  {
   "cell_type": "code",
   "execution_count": 1,
   "metadata": {},
   "outputs": [],
   "source": [
    "import json\n",
    "from pathlib import Path\n",
    "\n",
    "from bids.layout import BIDSLayout\n",
    "from bids.modeling import BIDSStatsModelsGraph"
   ]
  },
  {
   "cell_type": "code",
   "execution_count": 2,
   "metadata": {},
   "outputs": [],
   "source": [
    "def print_layout_entities(layout):\n",
    "    print('Run')\n",
    "    for file in layout.entities['run'].files:\n",
    "        print(\n",
    "            f'file: {file.split('bids_sm_transformation', 1)[-1]}\\n'\n",
    "            f'Value: {layout.entities['run'].files[file]} Data Type: {type(layout.entities['run'].files[file])}'\n",
    "        )\n",
    "\n",
    "    print('\\n AccelFactPE')\n",
    "    for file in layout.entities['AccelFactPE'].files:\n",
    "        print(\n",
    "            f'file: {file.split('bids_sm_transformation', 1)[-1]}\\n'\n",
    "            f'Value: {layout.entities['run'].files[file]} Data Type: {type(layout.entities['run'].files[file])}'\n",
    "        )"
   ]
  },
  {
   "cell_type": "code",
   "execution_count": 3,
   "metadata": {},
   "outputs": [],
   "source": [
    "root = 'data/ds003425_no_ses'\n",
    "db_path = 'data/ds003425_no_ses/dbcache'\n",
    "reset_database = True\n",
    "spec_path = 'model_specs/ds003425_spec_no_ses.json'"
   ]
  },
  {
   "cell_type": "code",
   "execution_count": 4,
   "metadata": {},
   "outputs": [],
   "source": [
    "layout = BIDSLayout(\n",
    "    root=root,\n",
    "    database_path=db_path,\n",
    "    reset_database=reset_database,\n",
    ")"
   ]
  },
  {
   "cell_type": "markdown",
   "metadata": {},
   "source": [
    "### Entity check\n",
    "This is the first time entities have been set up and all `ints` are `PaddedInts`.  I'm tracking both `run` and `AccelFactPE`, since they are entities from different sources (filenames vs .json). (note, using run as an example, these are from `layout.entities['run'].files[file]` across all `file` values)"
   ]
  },
  {
   "cell_type": "code",
   "execution_count": 5,
   "metadata": {},
   "outputs": [
    {
     "name": "stdout",
     "output_type": "stream",
     "text": [
      "Run\n",
      "file: /data/ds003425_no_ses/sub-01/func/sub-01_task-learning_run-01_events.tsv\n",
      "Value: 01 Data Type: <class 'bids.layout.utils.PaddedInt'>\n",
      "file: /data/ds003425_no_ses/sub-01/func/sub-01_task-learning_run-01_bold.json\n",
      "Value: 01 Data Type: <class 'bids.layout.utils.PaddedInt'>\n",
      "file: /data/ds003425_no_ses/sub-01/func/sub-01_task-learning_run-01_bold.nii.gz\n",
      "Value: 01 Data Type: <class 'bids.layout.utils.PaddedInt'>\n",
      "\n",
      " AccelFactPE\n",
      "file: /data/ds003425_no_ses/sub-01/func/sub-01_task-learning_run-01_bold.nii.gz\n",
      "Value: 01 Data Type: <class 'bids.layout.utils.PaddedInt'>\n"
     ]
    }
   ],
   "source": [
    "print_layout_entities(layout)"
   ]
  },
  {
   "cell_type": "code",
   "execution_count": 6,
   "metadata": {},
   "outputs": [],
   "source": [
    "spec = json.loads(Path(spec_path).read_text())\n",
    "graph = BIDSStatsModelsGraph(layout, spec)"
   ]
  },
  {
   "cell_type": "markdown",
   "metadata": {},
   "source": [
    "### Entity check\n",
    "Still `PaddedInt`"
   ]
  },
  {
   "cell_type": "code",
   "execution_count": 7,
   "metadata": {},
   "outputs": [
    {
     "name": "stdout",
     "output_type": "stream",
     "text": [
      "Run\n",
      "file: /data/ds003425_no_ses/sub-01/func/sub-01_task-learning_run-01_events.tsv\n",
      "Value: 01 Data Type: <class 'bids.layout.utils.PaddedInt'>\n",
      "file: /data/ds003425_no_ses/sub-01/func/sub-01_task-learning_run-01_bold.json\n",
      "Value: 01 Data Type: <class 'bids.layout.utils.PaddedInt'>\n",
      "file: /data/ds003425_no_ses/sub-01/func/sub-01_task-learning_run-01_bold.nii.gz\n",
      "Value: 01 Data Type: <class 'bids.layout.utils.PaddedInt'>\n",
      "\n",
      " AccelFactPE\n",
      "file: /data/ds003425_no_ses/sub-01/func/sub-01_task-learning_run-01_bold.nii.gz\n",
      "Value: 01 Data Type: <class 'bids.layout.utils.PaddedInt'>\n"
     ]
    }
   ],
   "source": [
    "print_layout_entities(layout)"
   ]
  },
  {
   "cell_type": "code",
   "execution_count": 8,
   "metadata": {},
   "outputs": [],
   "source": [
    "graph.load_collections(scan_length=250)  # scan_length is in seconds"
   ]
  },
  {
   "cell_type": "markdown",
   "metadata": {},
   "source": [
    "### Entity check\n",
    "Now `PaddedInt` has changed to `int` for `bold.nii.gz` and `AccelFactPE`.  Presumably this is due the the conversion to a Pandas dataframe, which I mentioned earlier. (`BidsVariableCollection._index_entities()`, specifically in [this line](https://github.com/bids-standard/pybids/blob/85eacf24c345abf72413381c53e6a7847c1cd932/src/bids/variables/collections.py#L248))  I didn't work my way through the code enough to connect the entities in layout to what is manipulated in `_index_entities()`."
   ]
  },
  {
   "cell_type": "code",
   "execution_count": 9,
   "metadata": {},
   "outputs": [
    {
     "name": "stdout",
     "output_type": "stream",
     "text": [
      "Run\n",
      "file: /data/ds003425_no_ses/sub-01/func/sub-01_task-learning_run-01_events.tsv\n",
      "Value: 01 Data Type: <class 'bids.layout.utils.PaddedInt'>\n",
      "file: /data/ds003425_no_ses/sub-01/func/sub-01_task-learning_run-01_bold.json\n",
      "Value: 01 Data Type: <class 'bids.layout.utils.PaddedInt'>\n",
      "file: /data/ds003425_no_ses/sub-01/func/sub-01_task-learning_run-01_bold.nii.gz\n",
      "Value: 1 Data Type: <class 'int'>\n",
      "\n",
      " AccelFactPE\n",
      "file: /data/ds003425_no_ses/sub-01/func/sub-01_task-learning_run-01_bold.nii.gz\n",
      "Value: 1 Data Type: <class 'int'>\n"
     ]
    }
   ],
   "source": [
    "print_layout_entities(layout)"
   ]
  },
  {
   "cell_type": "markdown",
   "metadata": {},
   "source": [
    "### But wait, how was `AccelFactPE` an issue later on because it was a `PaddedInt`?\n",
    "What is interesting about this observation is that I *know* that `AccelFactPE` is a trouble maker because it is a `PaddedInt` later on (the cause of the error at the end of this notebook).  As you're more familiar with the logic of this code base, you probably already know, but this is because there are, what I'm calling, individual level entities and collection level entities.  I currently don't have the bandwidth to dig further to see how each is used.\n",
    "\n",
    "This is where I lost steam.  No clue how `run` now is now universally an `int` and `AccelFactPE` is split.  I also don't understand which of these entity sets (if either) is involved in the error that is thrown below (with `AccelFactPE`) and which entity set (if either) is used to generate the run number in the output filenames.  If you could share that with me, I'd love to know.  Maybe I need to spend more time poking around the code."
   ]
  },
  {
   "cell_type": "code",
   "execution_count": 10,
   "metadata": {},
   "outputs": [
    {
     "name": "stdout",
     "output_type": "stream",
     "text": [
      "run types\n",
      "---------\n",
      "Collection level\n",
      "<class 'numpy.int64'>\n",
      "Individual level\n",
      "<class 'numpy.int64'>\n",
      "\n",
      " AccelFactPE types\n",
      "--------------------\n",
      "Collection level\n",
      "<class 'bids.layout.utils.PaddedInt'>\n",
      "Individual level\n",
      "<class 'numpy.int64'>\n"
     ]
    }
   ],
   "source": [
    "print('run types')\n",
    "print('---------')\n",
    "print('Collection level')\n",
    "print(type(graph.root_node._collections[0]['other_type'].entities['run']))\n",
    "print('Individual level')\n",
    "print(type(graph.root_node._collections[0].entities['run']))\n",
    "\n",
    "print('\\n AccelFactPE types')\n",
    "print('--------------------')\n",
    "print('Collection level')\n",
    "print(type(graph.root_node._collections[0]['other_type'].entities['AccelFactPE']))\n",
    "print('Individual level')\n",
    "print(type(graph.root_node._collections[0].entities['AccelFactPE']))\n"
   ]
  },
  {
   "cell_type": "markdown",
   "metadata": {},
   "source": [
    "# The Error that started it all\n",
    "\n",
    "Again, if the `PaddedInt` class is replaced with `int`, this error disappears.\n"
   ]
  },
  {
   "cell_type": "code",
   "execution_count": 11,
   "metadata": {},
   "outputs": [
    {
     "ename": "ValueError",
     "evalue": "The truth value of an array with more than one element is ambiguous. Use a.any() or a.all()",
     "output_type": "error",
     "traceback": [
      "\u001b[0;31m---------------------------------------------------------------------------\u001b[0m",
      "\u001b[0;31mValueError\u001b[0m                                Traceback (most recent call last)",
      "Cell \u001b[0;32mIn[11], line 2\u001b[0m\n\u001b[1;32m      1\u001b[0m root_node \u001b[38;5;241m=\u001b[39m graph\u001b[38;5;241m.\u001b[39mroot_node\n\u001b[0;32m----> 2\u001b[0m outputs \u001b[38;5;241m=\u001b[39m \u001b[43mroot_node\u001b[49m\u001b[38;5;241;43m.\u001b[39;49m\u001b[43mrun\u001b[49m\u001b[43m(\u001b[49m\n\u001b[1;32m      3\u001b[0m \u001b[43m    \u001b[49m\u001b[43mgroup_by\u001b[49m\u001b[38;5;241;43m=\u001b[39;49m\u001b[43mroot_node\u001b[49m\u001b[38;5;241;43m.\u001b[39;49m\u001b[43mgroup_by\u001b[49m\u001b[43m,\u001b[49m\n\u001b[1;32m      4\u001b[0m \u001b[43m    \u001b[49m\u001b[43mforce_dense\u001b[49m\u001b[38;5;241;43m=\u001b[39;49m\u001b[38;5;28;43;01mFalse\u001b[39;49;00m\u001b[43m,\u001b[49m\n\u001b[1;32m      5\u001b[0m \u001b[43m    \u001b[49m\u001b[43mtransformation_history\u001b[49m\u001b[38;5;241;43m=\u001b[39;49m\u001b[38;5;28;43;01mTrue\u001b[39;49;00m\u001b[43m,\u001b[49m\n\u001b[1;32m      6\u001b[0m \u001b[43m)\u001b[49m\n",
      "File \u001b[0;32m~/Dropbox/Research/Projects/Michael/bids_sm_transformation/.venv/lib/python3.12/site-packages/bids/modeling/statsmodels.py:523\u001b[0m, in \u001b[0;36mBIDSStatsModelsNode.run\u001b[0;34m(self, inputs, group_by, force_dense, sampling_rate, invalid_contrasts, missing_values, transformation_history, node_reports, **filters)\u001b[0m\n\u001b[1;32m    520\u001b[0m         \u001b[38;5;28;01melse\u001b[39;00m:\n\u001b[1;32m    521\u001b[0m             grp_inputs\u001b[38;5;241m.\u001b[39mappend(obj)\n\u001b[0;32m--> 523\u001b[0m     node_output \u001b[38;5;241m=\u001b[39m \u001b[43mBIDSStatsModelsNodeOutput\u001b[49m\u001b[43m(\u001b[49m\n\u001b[1;32m    524\u001b[0m \u001b[43m        \u001b[49m\u001b[43mnode\u001b[49m\u001b[38;5;241;43m=\u001b[39;49m\u001b[38;5;28;43mself\u001b[39;49m\u001b[43m,\u001b[49m\u001b[43m \u001b[49m\u001b[43mentities\u001b[49m\u001b[38;5;241;43m=\u001b[39;49m\u001b[38;5;28;43mdict\u001b[39;49m\u001b[43m(\u001b[49m\u001b[43mgrp_ents\u001b[49m\u001b[43m)\u001b[49m\u001b[43m,\u001b[49m\u001b[43m \u001b[49m\u001b[43mcollections\u001b[49m\u001b[38;5;241;43m=\u001b[39;49m\u001b[43mgrp_colls\u001b[49m\u001b[43m,\u001b[49m\n\u001b[1;32m    525\u001b[0m \u001b[43m        \u001b[49m\u001b[43minputs\u001b[49m\u001b[38;5;241;43m=\u001b[39;49m\u001b[43mgrp_inputs\u001b[49m\u001b[43m,\u001b[49m\u001b[43m \u001b[49m\u001b[43mforce_dense\u001b[49m\u001b[38;5;241;43m=\u001b[39;49m\u001b[43mforce_dense\u001b[49m\u001b[43m,\u001b[49m\n\u001b[1;32m    526\u001b[0m \u001b[43m        \u001b[49m\u001b[43msampling_rate\u001b[49m\u001b[38;5;241;43m=\u001b[39;49m\u001b[43msampling_rate\u001b[49m\u001b[43m,\u001b[49m\u001b[43m \u001b[49m\u001b[43minvalid_contrasts\u001b[49m\u001b[38;5;241;43m=\u001b[39;49m\u001b[43minvalid_contrasts\u001b[49m\u001b[43m,\u001b[49m\n\u001b[1;32m    527\u001b[0m \u001b[43m        \u001b[49m\u001b[43mmissing_values\u001b[49m\u001b[38;5;241;43m=\u001b[39;49m\u001b[43mmissing_values\u001b[49m\u001b[43m,\u001b[49m\n\u001b[1;32m    528\u001b[0m \u001b[43m        \u001b[49m\u001b[43mtransformation_history\u001b[49m\u001b[38;5;241;43m=\u001b[39;49m\u001b[43mtransformation_history\u001b[49m\u001b[43m,\u001b[49m\u001b[43m \u001b[49m\u001b[43mnode_reports\u001b[49m\u001b[38;5;241;43m=\u001b[39;49m\u001b[43mnode_reports\u001b[49m\u001b[43m)\u001b[49m\n\u001b[1;32m    529\u001b[0m     results\u001b[38;5;241m.\u001b[39mappend(node_output)\n\u001b[1;32m    531\u001b[0m \u001b[38;5;28;01mreturn\u001b[39;00m results\n",
      "File \u001b[0;32m~/Dropbox/Research/Projects/Michael/bids_sm_transformation/.venv/lib/python3.12/site-packages/bids/modeling/statsmodels.py:660\u001b[0m, in \u001b[0;36mBIDSStatsModelsNodeOutput.__init__\u001b[0;34m(self, node, entities, collections, inputs, force_dense, sampling_rate, invalid_contrasts, missing_values, transformation_history, node_reports)\u001b[0m\n\u001b[1;32m    657\u001b[0m \u001b[38;5;28mself\u001b[39m\u001b[38;5;241m.\u001b[39mcoll_hist \u001b[38;5;241m=\u001b[39m \u001b[38;5;28;01mNone\u001b[39;00m\n\u001b[1;32m    659\u001b[0m \u001b[38;5;66;03m# Apply transformations and convert collections to single DF\u001b[39;00m\n\u001b[0;32m--> 660\u001b[0m dfs \u001b[38;5;241m=\u001b[39m \u001b[38;5;28;43mself\u001b[39;49m\u001b[38;5;241;43m.\u001b[39;49m\u001b[43m_collections_to_dfs\u001b[49m\u001b[43m(\u001b[49m\u001b[43mcollections\u001b[49m\u001b[43m,\u001b[49m\u001b[43m \u001b[49m\u001b[43mcollection_history\u001b[49m\u001b[38;5;241;43m=\u001b[39;49m\u001b[43mtransformation_history\u001b[49m\u001b[43m)\u001b[49m\n\u001b[1;32m    662\u001b[0m \u001b[38;5;28;01mif\u001b[39;00m inputs:\n\u001b[1;32m    663\u001b[0m     dfs\u001b[38;5;241m.\u001b[39mappend(\u001b[38;5;28mself\u001b[39m\u001b[38;5;241m.\u001b[39m_inputs_to_df(inputs))\n",
      "File \u001b[0;32m~/Dropbox/Research/Projects/Michael/bids_sm_transformation/.venv/lib/python3.12/site-packages/bids/modeling/statsmodels.py:761\u001b[0m, in \u001b[0;36mBIDSStatsModelsNodeOutput._collections_to_dfs\u001b[0;34m(self, collections, collection_history)\u001b[0m\n\u001b[1;32m    758\u001b[0m \u001b[38;5;28;01mif\u001b[39;00m transformations:\n\u001b[1;32m    759\u001b[0m     transformer \u001b[38;5;241m=\u001b[39m tm\u001b[38;5;241m.\u001b[39mTransformerManager(\n\u001b[1;32m    760\u001b[0m         transformations[\u001b[38;5;124m'\u001b[39m\u001b[38;5;124mtransformer\u001b[39m\u001b[38;5;124m'\u001b[39m], keep_history\u001b[38;5;241m=\u001b[39mcollection_history)\n\u001b[0;32m--> 761\u001b[0m     coll \u001b[38;5;241m=\u001b[39m \u001b[43mtransformer\u001b[49m\u001b[38;5;241;43m.\u001b[39;49m\u001b[43mtransform\u001b[49m\u001b[43m(\u001b[49m\u001b[43mcoll\u001b[49m\u001b[38;5;241;43m.\u001b[39;49m\u001b[43mclone\u001b[49m\u001b[43m(\u001b[49m\u001b[43m)\u001b[49m\u001b[43m,\u001b[49m\u001b[43m \u001b[49m\u001b[43mtransformations\u001b[49m\u001b[43m[\u001b[49m\u001b[38;5;124;43m'\u001b[39;49m\u001b[38;5;124;43minstructions\u001b[39;49m\u001b[38;5;124;43m'\u001b[39;49m\u001b[43m]\u001b[49m\u001b[43m)\u001b[49m\n\u001b[1;32m    763\u001b[0m     \u001b[38;5;28;01mif\u001b[39;00m \u001b[38;5;28mhasattr\u001b[39m(transformer, \u001b[38;5;124m'\u001b[39m\u001b[38;5;124mhistory_\u001b[39m\u001b[38;5;124m'\u001b[39m):\n\u001b[1;32m    764\u001b[0m         trans_hist \u001b[38;5;241m+\u001b[39m\u001b[38;5;241m=\u001b[39m transformer\u001b[38;5;241m.\u001b[39mhistory_\n",
      "File \u001b[0;32m~/Dropbox/Research/Projects/Michael/bids_sm_transformation/.venv/lib/python3.12/site-packages/bids/modeling/transformations/base.py:517\u001b[0m, in \u001b[0;36mTransformerManager.transform\u001b[0;34m(self, collection, transformations)\u001b[0m\n\u001b[1;32m    514\u001b[0m func \u001b[38;5;241m=\u001b[39m \u001b[38;5;28mgetattr\u001b[39m(\u001b[38;5;28mself\u001b[39m\u001b[38;5;241m.\u001b[39mdefault, name)\n\u001b[1;32m    516\u001b[0m \u001b[38;5;66;03m# Apply the transformation\u001b[39;00m\n\u001b[0;32m--> 517\u001b[0m \u001b[43mfunc\u001b[49m\u001b[43m(\u001b[49m\u001b[43mcollection\u001b[49m\u001b[43m,\u001b[49m\u001b[43m \u001b[49m\u001b[43mcols\u001b[49m\u001b[43m,\u001b[49m\u001b[43m \u001b[49m\u001b[38;5;241;43m*\u001b[39;49m\u001b[38;5;241;43m*\u001b[39;49m\u001b[43mkwargs\u001b[49m\u001b[43m)\u001b[49m\n\u001b[1;32m    519\u001b[0m \u001b[38;5;66;03m# Take snapshot of collection after transformation\u001b[39;00m\n\u001b[1;32m    520\u001b[0m \u001b[38;5;28;01mif\u001b[39;00m \u001b[38;5;28mself\u001b[39m\u001b[38;5;241m.\u001b[39mkeep_history:\n",
      "File \u001b[0;32m~/Dropbox/Research/Projects/Michael/bids_sm_transformation/.venv/lib/python3.12/site-packages/bids/modeling/transformations/base.py:104\u001b[0m, in \u001b[0;36mTransformation.__new__\u001b[0;34m(cls, collection, variables, *args, **kwargs)\u001b[0m\n\u001b[1;32m    102\u001b[0m t \u001b[38;5;241m=\u001b[39m \u001b[38;5;28msuper\u001b[39m(Transformation, \u001b[38;5;28mcls\u001b[39m)\u001b[38;5;241m.\u001b[39m\u001b[38;5;21m__new__\u001b[39m(\u001b[38;5;28mcls\u001b[39m)\n\u001b[1;32m    103\u001b[0m t\u001b[38;5;241m.\u001b[39m_setup(collection, variables, \u001b[38;5;241m*\u001b[39margs, \u001b[38;5;241m*\u001b[39m\u001b[38;5;241m*\u001b[39mkwargs)\n\u001b[0;32m--> 104\u001b[0m \u001b[38;5;28;01mreturn\u001b[39;00m \u001b[43mt\u001b[49m\u001b[38;5;241;43m.\u001b[39;49m\u001b[43mtransform\u001b[49m\u001b[43m(\u001b[49m\u001b[43m)\u001b[49m\n",
      "File \u001b[0;32m~/Dropbox/Research/Projects/Michael/bids_sm_transformation/.venv/lib/python3.12/site-packages/bids/modeling/transformations/base.py:288\u001b[0m, in \u001b[0;36mTransformation.transform\u001b[0;34m(self)\u001b[0m\n\u001b[1;32m    285\u001b[0m         result \u001b[38;5;241m=\u001b[39m col\u001b[38;5;241m.\u001b[39mapply(\u001b[38;5;28mself\u001b[39m\u001b[38;5;241m.\u001b[39m_transform, groupby\u001b[38;5;241m=\u001b[39m\u001b[38;5;28mself\u001b[39m\u001b[38;5;241m.\u001b[39mgroupby,\n\u001b[1;32m    286\u001b[0m                            \u001b[38;5;241m*\u001b[39m\u001b[38;5;241m*\u001b[39mi_kwargs)\n\u001b[1;32m    287\u001b[0m     \u001b[38;5;28;01melse\u001b[39;00m:\n\u001b[0;32m--> 288\u001b[0m         result \u001b[38;5;241m=\u001b[39m \u001b[38;5;28;43mself\u001b[39;49m\u001b[38;5;241;43m.\u001b[39;49m\u001b[43m_transform\u001b[49m\u001b[43m(\u001b[49m\u001b[43mdata\u001b[49m\u001b[43m[\u001b[49m\u001b[43mi\u001b[49m\u001b[43m]\u001b[49m\u001b[43m,\u001b[49m\u001b[43m \u001b[49m\u001b[38;5;241;43m*\u001b[39;49m\u001b[38;5;241;43m*\u001b[39;49m\u001b[43mi_kwargs\u001b[49m\u001b[43m)\u001b[49m\n\u001b[1;32m    290\u001b[0m \u001b[38;5;28;01mif\u001b[39;00m \u001b[38;5;28mself\u001b[39m\u001b[38;5;241m.\u001b[39m_return_type \u001b[38;5;129;01min\u001b[39;00m [\u001b[38;5;124m'\u001b[39m\u001b[38;5;124mnone\u001b[39m\u001b[38;5;124m'\u001b[39m, \u001b[38;5;28;01mNone\u001b[39;00m]:\n\u001b[1;32m    291\u001b[0m     \u001b[38;5;28;01mcontinue\u001b[39;00m\n",
      "File \u001b[0;32m~/Dropbox/Research/Projects/Michael/bids_sm_transformation/.venv/lib/python3.12/site-packages/bids/modeling/transformations/compute.py:102\u001b[0m, in \u001b[0;36mConvolve._transform\u001b[0;34m(self, var, model, derivative, dispersion, fir_delays)\u001b[0m\n\u001b[1;32m     99\u001b[0m \u001b[38;5;28;01mfor\u001b[39;00m conv, name \u001b[38;5;129;01min\u001b[39;00m \u001b[38;5;28mzip\u001b[39m(np\u001b[38;5;241m.\u001b[39msplit(arr, arr\u001b[38;5;241m.\u001b[39mshape[\u001b[38;5;241m1\u001b[39m], axis\u001b[38;5;241m=\u001b[39m\u001b[38;5;241m1\u001b[39m), names):\n\u001b[1;32m    100\u001b[0m     new_name \u001b[38;5;241m=\u001b[39m \u001b[38;5;124m'\u001b[39m\u001b[38;5;124m_\u001b[39m\u001b[38;5;124m'\u001b[39m\u001b[38;5;241m.\u001b[39mjoin([var\u001b[38;5;241m.\u001b[39mname, name\u001b[38;5;241m.\u001b[39msplit(\u001b[38;5;124m'\u001b[39m\u001b[38;5;124m_\u001b[39m\u001b[38;5;124m'\u001b[39m)[\u001b[38;5;241m-\u001b[39m\u001b[38;5;241m1\u001b[39m]]) \u001b[38;5;28;01mif\u001b[39;00m \u001b[38;5;124m'\u001b[39m\u001b[38;5;124m_\u001b[39m\u001b[38;5;124m'\u001b[39m \u001b[38;5;129;01min\u001b[39;00m name \u001b[38;5;28;01melse\u001b[39;00m var\u001b[38;5;241m.\u001b[39mname\n\u001b[1;32m    101\u001b[0m     results\u001b[38;5;241m.\u001b[39mappend(\n\u001b[0;32m--> 102\u001b[0m         \u001b[43mDenseRunVariable\u001b[49m\u001b[43m(\u001b[49m\n\u001b[1;32m    103\u001b[0m \u001b[43m            \u001b[49m\u001b[43mname\u001b[49m\u001b[38;5;241;43m=\u001b[39;49m\u001b[43mnew_name\u001b[49m\u001b[43m,\u001b[49m\u001b[43m \u001b[49m\u001b[43mvalues\u001b[49m\u001b[38;5;241;43m=\u001b[39;49m\u001b[43mconv\u001b[49m\u001b[43m,\u001b[49m\u001b[43m \u001b[49m\u001b[43mrun_info\u001b[49m\u001b[38;5;241;43m=\u001b[39;49m\u001b[43mvar\u001b[49m\u001b[38;5;241;43m.\u001b[39;49m\u001b[43mrun_info\u001b[49m\u001b[43m,\u001b[49m\n\u001b[1;32m    104\u001b[0m \u001b[43m            \u001b[49m\u001b[43msource\u001b[49m\u001b[38;5;241;43m=\u001b[39;49m\u001b[43mvar\u001b[49m\u001b[38;5;241;43m.\u001b[39;49m\u001b[43msource\u001b[49m\u001b[43m,\u001b[49m\u001b[43m \u001b[49m\u001b[43msampling_rate\u001b[49m\u001b[38;5;241;43m=\u001b[39;49m\u001b[43msampling_rate\u001b[49m\u001b[43m)\u001b[49m\n\u001b[1;32m    105\u001b[0m     )\n\u001b[1;32m    106\u001b[0m \u001b[38;5;28;01mreturn\u001b[39;00m results\n",
      "File \u001b[0;32m~/Dropbox/Research/Projects/Michael/bids_sm_transformation/.venv/lib/python3.12/site-packages/bids/variables/variables.py:498\u001b[0m, in \u001b[0;36mDenseRunVariable.__init__\u001b[0;34m(self, name, values, run_info, source, sampling_rate)\u001b[0m\n\u001b[1;32m    495\u001b[0m \u001b[38;5;28mself\u001b[39m\u001b[38;5;241m.\u001b[39msampling_rate \u001b[38;5;241m=\u001b[39m sampling_rate\n\u001b[1;32m    496\u001b[0m \u001b[38;5;28mself\u001b[39m\u001b[38;5;241m.\u001b[39mindex \u001b[38;5;241m=\u001b[39m \u001b[38;5;28mself\u001b[39m\u001b[38;5;241m.\u001b[39m_build_entity_index(run_info, sampling_rate)\n\u001b[0;32m--> 498\u001b[0m \u001b[38;5;28;43msuper\u001b[39;49m\u001b[43m(\u001b[49m\u001b[43mDenseRunVariable\u001b[49m\u001b[43m,\u001b[49m\u001b[43m \u001b[49m\u001b[38;5;28;43mself\u001b[39;49m\u001b[43m)\u001b[49m\u001b[38;5;241;43m.\u001b[39;49m\u001b[38;5;21;43m__init__\u001b[39;49m\u001b[43m(\u001b[49m\u001b[43mname\u001b[49m\u001b[43m,\u001b[49m\u001b[43m \u001b[49m\u001b[43mvalues\u001b[49m\u001b[43m,\u001b[49m\u001b[43m \u001b[49m\u001b[43msource\u001b[49m\u001b[43m)\u001b[49m\n",
      "File \u001b[0;32m~/Dropbox/Research/Projects/Michael/bids_sm_transformation/.venv/lib/python3.12/site-packages/bids/variables/variables.py:27\u001b[0m, in \u001b[0;36mBIDSVariable.__init__\u001b[0;34m(self, name, values, source)\u001b[0m\n\u001b[1;32m     25\u001b[0m \u001b[38;5;28mself\u001b[39m\u001b[38;5;241m.\u001b[39mvalues \u001b[38;5;241m=\u001b[39m values\n\u001b[1;32m     26\u001b[0m \u001b[38;5;28mself\u001b[39m\u001b[38;5;241m.\u001b[39msource \u001b[38;5;241m=\u001b[39m source\n\u001b[0;32m---> 27\u001b[0m \u001b[38;5;28mself\u001b[39m\u001b[38;5;241m.\u001b[39mentities \u001b[38;5;241m=\u001b[39m \u001b[38;5;28;43mself\u001b[39;49m\u001b[38;5;241;43m.\u001b[39;49m\u001b[43m_extract_entities\u001b[49m\u001b[43m(\u001b[49m\u001b[43m)\u001b[49m\n",
      "File \u001b[0;32m~/Dropbox/Research/Projects/Michael/bids_sm_transformation/.venv/lib/python3.12/site-packages/bids/variables/variables.py:247\u001b[0m, in \u001b[0;36mBIDSVariable._extract_entities\u001b[0;34m(self)\u001b[0m\n\u001b[1;32m    244\u001b[0m     a \u001b[38;5;241m=\u001b[39m s\u001b[38;5;241m.\u001b[39mto_numpy()\n\u001b[1;32m    245\u001b[0m     \u001b[38;5;28;01mreturn\u001b[39;00m (a[\u001b[38;5;241m0\u001b[39m] \u001b[38;5;241m==\u001b[39m a)\u001b[38;5;241m.\u001b[39mall()\n\u001b[0;32m--> 247\u001b[0m constant \u001b[38;5;241m=\u001b[39m \u001b[38;5;28;43mself\u001b[39;49m\u001b[38;5;241;43m.\u001b[39;49m\u001b[43mindex\u001b[49m\u001b[38;5;241;43m.\u001b[39;49m\u001b[43mapply\u001b[49m\u001b[43m(\u001b[49m\u001b[43mis_unique\u001b[49m\u001b[43m)\u001b[49m\n\u001b[1;32m    248\u001b[0m \u001b[38;5;28;01mif\u001b[39;00m constant\u001b[38;5;241m.\u001b[39mempty:\n\u001b[1;32m    249\u001b[0m     \u001b[38;5;28;01mreturn\u001b[39;00m {}\n",
      "File \u001b[0;32m~/Dropbox/Research/Projects/Michael/bids_sm_transformation/.venv/lib/python3.12/site-packages/pandas/core/frame.py:10374\u001b[0m, in \u001b[0;36mDataFrame.apply\u001b[0;34m(self, func, axis, raw, result_type, args, by_row, engine, engine_kwargs, **kwargs)\u001b[0m\n\u001b[1;32m  10360\u001b[0m \u001b[38;5;28;01mfrom\u001b[39;00m\u001b[38;5;250m \u001b[39m\u001b[38;5;21;01mpandas\u001b[39;00m\u001b[38;5;21;01m.\u001b[39;00m\u001b[38;5;21;01mcore\u001b[39;00m\u001b[38;5;21;01m.\u001b[39;00m\u001b[38;5;21;01mapply\u001b[39;00m\u001b[38;5;250m \u001b[39m\u001b[38;5;28;01mimport\u001b[39;00m frame_apply\n\u001b[1;32m  10362\u001b[0m op \u001b[38;5;241m=\u001b[39m frame_apply(\n\u001b[1;32m  10363\u001b[0m     \u001b[38;5;28mself\u001b[39m,\n\u001b[1;32m  10364\u001b[0m     func\u001b[38;5;241m=\u001b[39mfunc,\n\u001b[0;32m   (...)\u001b[0m\n\u001b[1;32m  10372\u001b[0m     kwargs\u001b[38;5;241m=\u001b[39mkwargs,\n\u001b[1;32m  10373\u001b[0m )\n\u001b[0;32m> 10374\u001b[0m \u001b[38;5;28;01mreturn\u001b[39;00m \u001b[43mop\u001b[49m\u001b[38;5;241;43m.\u001b[39;49m\u001b[43mapply\u001b[49m\u001b[43m(\u001b[49m\u001b[43m)\u001b[49m\u001b[38;5;241m.\u001b[39m__finalize__(\u001b[38;5;28mself\u001b[39m, method\u001b[38;5;241m=\u001b[39m\u001b[38;5;124m\"\u001b[39m\u001b[38;5;124mapply\u001b[39m\u001b[38;5;124m\"\u001b[39m)\n",
      "File \u001b[0;32m~/Dropbox/Research/Projects/Michael/bids_sm_transformation/.venv/lib/python3.12/site-packages/pandas/core/apply.py:916\u001b[0m, in \u001b[0;36mFrameApply.apply\u001b[0;34m(self)\u001b[0m\n\u001b[1;32m    913\u001b[0m \u001b[38;5;28;01melif\u001b[39;00m \u001b[38;5;28mself\u001b[39m\u001b[38;5;241m.\u001b[39mraw:\n\u001b[1;32m    914\u001b[0m     \u001b[38;5;28;01mreturn\u001b[39;00m \u001b[38;5;28mself\u001b[39m\u001b[38;5;241m.\u001b[39mapply_raw(engine\u001b[38;5;241m=\u001b[39m\u001b[38;5;28mself\u001b[39m\u001b[38;5;241m.\u001b[39mengine, engine_kwargs\u001b[38;5;241m=\u001b[39m\u001b[38;5;28mself\u001b[39m\u001b[38;5;241m.\u001b[39mengine_kwargs)\n\u001b[0;32m--> 916\u001b[0m \u001b[38;5;28;01mreturn\u001b[39;00m \u001b[38;5;28;43mself\u001b[39;49m\u001b[38;5;241;43m.\u001b[39;49m\u001b[43mapply_standard\u001b[49m\u001b[43m(\u001b[49m\u001b[43m)\u001b[49m\n",
      "File \u001b[0;32m~/Dropbox/Research/Projects/Michael/bids_sm_transformation/.venv/lib/python3.12/site-packages/pandas/core/apply.py:1063\u001b[0m, in \u001b[0;36mFrameApply.apply_standard\u001b[0;34m(self)\u001b[0m\n\u001b[1;32m   1061\u001b[0m \u001b[38;5;28;01mdef\u001b[39;00m\u001b[38;5;250m \u001b[39m\u001b[38;5;21mapply_standard\u001b[39m(\u001b[38;5;28mself\u001b[39m):\n\u001b[1;32m   1062\u001b[0m     \u001b[38;5;28;01mif\u001b[39;00m \u001b[38;5;28mself\u001b[39m\u001b[38;5;241m.\u001b[39mengine \u001b[38;5;241m==\u001b[39m \u001b[38;5;124m\"\u001b[39m\u001b[38;5;124mpython\u001b[39m\u001b[38;5;124m\"\u001b[39m:\n\u001b[0;32m-> 1063\u001b[0m         results, res_index \u001b[38;5;241m=\u001b[39m \u001b[38;5;28;43mself\u001b[39;49m\u001b[38;5;241;43m.\u001b[39;49m\u001b[43mapply_series_generator\u001b[49m\u001b[43m(\u001b[49m\u001b[43m)\u001b[49m\n\u001b[1;32m   1064\u001b[0m     \u001b[38;5;28;01melse\u001b[39;00m:\n\u001b[1;32m   1065\u001b[0m         results, res_index \u001b[38;5;241m=\u001b[39m \u001b[38;5;28mself\u001b[39m\u001b[38;5;241m.\u001b[39mapply_series_numba()\n",
      "File \u001b[0;32m~/Dropbox/Research/Projects/Michael/bids_sm_transformation/.venv/lib/python3.12/site-packages/pandas/core/apply.py:1081\u001b[0m, in \u001b[0;36mFrameApply.apply_series_generator\u001b[0;34m(self)\u001b[0m\n\u001b[1;32m   1078\u001b[0m \u001b[38;5;28;01mwith\u001b[39;00m option_context(\u001b[38;5;124m\"\u001b[39m\u001b[38;5;124mmode.chained_assignment\u001b[39m\u001b[38;5;124m\"\u001b[39m, \u001b[38;5;28;01mNone\u001b[39;00m):\n\u001b[1;32m   1079\u001b[0m     \u001b[38;5;28;01mfor\u001b[39;00m i, v \u001b[38;5;129;01min\u001b[39;00m \u001b[38;5;28menumerate\u001b[39m(series_gen):\n\u001b[1;32m   1080\u001b[0m         \u001b[38;5;66;03m# ignore SettingWithCopy here in case the user mutates\u001b[39;00m\n\u001b[0;32m-> 1081\u001b[0m         results[i] \u001b[38;5;241m=\u001b[39m \u001b[38;5;28;43mself\u001b[39;49m\u001b[38;5;241;43m.\u001b[39;49m\u001b[43mfunc\u001b[49m\u001b[43m(\u001b[49m\u001b[43mv\u001b[49m\u001b[43m,\u001b[49m\u001b[43m \u001b[49m\u001b[38;5;241;43m*\u001b[39;49m\u001b[38;5;28;43mself\u001b[39;49m\u001b[38;5;241;43m.\u001b[39;49m\u001b[43margs\u001b[49m\u001b[43m,\u001b[49m\u001b[43m \u001b[49m\u001b[38;5;241;43m*\u001b[39;49m\u001b[38;5;241;43m*\u001b[39;49m\u001b[38;5;28;43mself\u001b[39;49m\u001b[38;5;241;43m.\u001b[39;49m\u001b[43mkwargs\u001b[49m\u001b[43m)\u001b[49m\n\u001b[1;32m   1082\u001b[0m         \u001b[38;5;28;01mif\u001b[39;00m \u001b[38;5;28misinstance\u001b[39m(results[i], ABCSeries):\n\u001b[1;32m   1083\u001b[0m             \u001b[38;5;66;03m# If we have a view on v, we need to make a copy because\u001b[39;00m\n\u001b[1;32m   1084\u001b[0m             \u001b[38;5;66;03m#  series_generator will swap out the underlying data\u001b[39;00m\n\u001b[1;32m   1085\u001b[0m             results[i] \u001b[38;5;241m=\u001b[39m results[i]\u001b[38;5;241m.\u001b[39mcopy(deep\u001b[38;5;241m=\u001b[39m\u001b[38;5;28;01mFalse\u001b[39;00m)\n",
      "File \u001b[0;32m~/Dropbox/Research/Projects/Michael/bids_sm_transformation/.venv/lib/python3.12/site-packages/bids/variables/variables.py:245\u001b[0m, in \u001b[0;36mBIDSVariable._extract_entities.<locals>.is_unique\u001b[0;34m(s)\u001b[0m\n\u001b[1;32m    243\u001b[0m \u001b[38;5;28;01mdef\u001b[39;00m\u001b[38;5;250m \u001b[39m\u001b[38;5;21mis_unique\u001b[39m(s):\n\u001b[1;32m    244\u001b[0m     a \u001b[38;5;241m=\u001b[39m s\u001b[38;5;241m.\u001b[39mto_numpy()\n\u001b[0;32m--> 245\u001b[0m     \u001b[38;5;28;01mreturn\u001b[39;00m (\u001b[43ma\u001b[49m\u001b[43m[\u001b[49m\u001b[38;5;241;43m0\u001b[39;49m\u001b[43m]\u001b[49m\u001b[43m \u001b[49m\u001b[38;5;241;43m==\u001b[39;49m\u001b[43m \u001b[49m\u001b[43ma\u001b[49m)\u001b[38;5;241m.\u001b[39mall()\n",
      "File \u001b[0;32m~/Dropbox/Research/Projects/Michael/bids_sm_transformation/.venv/lib/python3.12/site-packages/bids/layout/utils.py:68\u001b[0m, in \u001b[0;36mPaddedInt.__eq__\u001b[0;34m(self, val)\u001b[0m\n\u001b[1;32m     67\u001b[0m \u001b[38;5;28;01mdef\u001b[39;00m\u001b[38;5;250m \u001b[39m\u001b[38;5;21m__eq__\u001b[39m(\u001b[38;5;28mself\u001b[39m, val):\n\u001b[0;32m---> 68\u001b[0m     \u001b[38;5;28;01mreturn\u001b[39;00m \u001b[43mval\u001b[49m\u001b[43m \u001b[49m\u001b[38;5;241;43m==\u001b[39;49m\u001b[43m \u001b[49m\u001b[38;5;28;43mself\u001b[39;49m\u001b[38;5;241;43m.\u001b[39;49m\u001b[43msval\u001b[49m\u001b[43m \u001b[49m\u001b[38;5;129;43;01mor\u001b[39;49;00m\u001b[43m \u001b[49m\u001b[38;5;28;43msuper\u001b[39;49m\u001b[43m(\u001b[49m\u001b[43m)\u001b[49m\u001b[38;5;241;43m.\u001b[39;49m\u001b[38;5;21;43m__eq__\u001b[39;49m\u001b[43m(\u001b[49m\u001b[43mval\u001b[49m\u001b[43m)\u001b[49m\n",
      "\u001b[0;31mValueError\u001b[0m: The truth value of an array with more than one element is ambiguous. Use a.any() or a.all()"
     ]
    }
   ],
   "source": [
    "root_node = graph.root_node\n",
    "outputs = root_node.run(\n",
    "    group_by=root_node.group_by,\n",
    "    force_dense=False,\n",
    "    transformation_history=True,\n",
    ")"
   ]
  }
 ],
 "metadata": {
  "kernelspec": {
   "display_name": ".venv",
   "language": "python",
   "name": "python3"
  },
  "language_info": {
   "codemirror_mode": {
    "name": "ipython",
    "version": 3
   },
   "file_extension": ".py",
   "mimetype": "text/x-python",
   "name": "python",
   "nbconvert_exporter": "python",
   "pygments_lexer": "ipython3",
   "version": "3.12.2"
  }
 },
 "nbformat": 4,
 "nbformat_minor": 2
}
